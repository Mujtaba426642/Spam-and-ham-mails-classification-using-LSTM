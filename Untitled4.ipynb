{
  "cells": [
    {
      "cell_type": "code",
      "execution_count": 37,
      "metadata": {
        "id": "ckBCUkN5XXBM"
      },
      "outputs": [],
      "source": [
        "import pandas as pd \n",
        "import numpy as np\n",
        "import keras\n",
        "from keras.models import Sequential\n",
        "from keras.layers import Dense, LSTM, Embedding, Dropout\n",
        "from keras.preprocessing import sequence\n",
        "from sklearn.model_selection import train_test_split\n",
        "from keras.preprocessing.text import Tokenizer\n",
        "from tensorflow.keras.preprocessing.sequence import pad_sequences"
      ]
    },
    {
      "cell_type": "code",
      "execution_count": 38,
      "metadata": {
        "id": "n3WXpAgQXfov"
      },
      "outputs": [],
      "source": [
        "data = pd.read_csv('/content/spam.csv', encoding='ISO-8859-1')\n",
        "\n",
        "data.head()\n",
        "\n",
        "X = data['v2'].values\n",
        "y = data['v1'].values"
      ]
    },
    {
      "cell_type": "code",
      "source": [
        "tokenizer = Tokenizer(num_words=5000)\n",
        "tokenizer.fit_on_texts(X)\n",
        "X = tokenizer.texts_to_sequences(X)\n",
        "\n",
        "X = pad_sequences(X, maxlen=500)"
      ],
      "metadata": {
        "id": "9CwuFz9-8QGM"
      },
      "execution_count": 39,
      "outputs": []
    },
    {
      "cell_type": "code",
      "source": [
        "X_train, X_test, y_train, y_test = train_test_split(X, y, test_size=0.2, random_state=42)\n",
        "X_train, X_val, y_train, y_val = train_test_split(X_train, y_train, test_size=0.2, random_state=42)\n",
        "from sklearn.preprocessing import LabelEncoder\n",
        "\n",
        "encoder = LabelEncoder()\n",
        "y_train = encoder.fit_transform(y_train)\n",
        "y_val = encoder.transform(y_val)\n",
        "y_test = encoder.transform(y_test)\n",
        "\n",
        "model = Sequential()\n",
        "model.add(Embedding(input_dim=5000, output_dim=64, input_length=500))\n",
        "model.add(Dropout(0.5))\n",
        "model.add(LSTM(units=64))\n",
        "model.add(Dropout(0.5))\n",
        "model.add(Dense(units=1, activation='sigmoid'))"
      ],
      "metadata": {
        "id": "_80kG2Bx8ZPI"
      },
      "execution_count": 40,
      "outputs": []
    },
    {
      "cell_type": "code",
      "source": [
        "model.compile(optimizer='adam', loss='binary_crossentropy', metrics=['accuracy'])\n",
        "\n",
        "# Train the model\n",
        "model.fit(X_train, y_train, batch_size=100, epochs=10, validation_data=(X_val, y_val))\n"
      ],
      "metadata": {
        "colab": {
          "base_uri": "https://localhost:8080/"
        },
        "id": "xold3d608dRn",
        "outputId": "56c053e1-bfb4-4616-b114-6efbea6e8439"
      },
      "execution_count": 48,
      "outputs": [
        {
          "output_type": "stream",
          "name": "stdout",
          "text": [
            "Epoch 1/10\n",
            "36/36 [==============================] - 53s 1s/step - loss: 0.0060 - accuracy: 0.9992 - val_loss: 0.0620 - val_accuracy: 0.9888\n",
            "Epoch 2/10\n",
            "36/36 [==============================] - 37s 1s/step - loss: 0.0018 - accuracy: 0.9994 - val_loss: 0.0727 - val_accuracy: 0.9888\n",
            "Epoch 3/10\n",
            "36/36 [==============================] - 37s 1s/step - loss: 0.0024 - accuracy: 0.9997 - val_loss: 0.0798 - val_accuracy: 0.9865\n",
            "Epoch 4/10\n",
            "36/36 [==============================] - 38s 1s/step - loss: 6.5343e-04 - accuracy: 0.9997 - val_loss: 0.0885 - val_accuracy: 0.9854\n",
            "Epoch 5/10\n",
            "36/36 [==============================] - 38s 1s/step - loss: 8.0897e-04 - accuracy: 0.9997 - val_loss: 0.0923 - val_accuracy: 0.9854\n",
            "Epoch 6/10\n",
            "36/36 [==============================] - 38s 1s/step - loss: 3.4238e-04 - accuracy: 1.0000 - val_loss: 0.0856 - val_accuracy: 0.9899\n",
            "Epoch 7/10\n",
            "36/36 [==============================] - 39s 1s/step - loss: 3.8317e-04 - accuracy: 1.0000 - val_loss: 0.0899 - val_accuracy: 0.9865\n",
            "Epoch 8/10\n",
            "36/36 [==============================] - 38s 1s/step - loss: 3.8415e-04 - accuracy: 1.0000 - val_loss: 0.0920 - val_accuracy: 0.9877\n",
            "Epoch 9/10\n",
            "36/36 [==============================] - 39s 1s/step - loss: 1.7038e-04 - accuracy: 1.0000 - val_loss: 0.0956 - val_accuracy: 0.9877\n",
            "Epoch 10/10\n",
            "36/36 [==============================] - 39s 1s/step - loss: 1.1260e-04 - accuracy: 1.0000 - val_loss: 0.0997 - val_accuracy: 0.9888\n"
          ]
        },
        {
          "output_type": "execute_result",
          "data": {
            "text/plain": [
              "<keras.callbacks.History at 0x7f60b452b070>"
            ]
          },
          "metadata": {},
          "execution_count": 48
        }
      ]
    },
    {
      "cell_type": "code",
      "source": [
        "score, acc = model.evaluate(X_test, y_test, batch_size=128)\n",
        "print('Test score:', score)\n",
        "print('Test accuracy:', acc)\n"
      ],
      "metadata": {
        "colab": {
          "base_uri": "https://localhost:8080/"
        },
        "id": "5IZuuX088eEe",
        "outputId": "c7a8594d-4f43-4c48-c901-450c7bb0045e"
      },
      "execution_count": 49,
      "outputs": [
        {
          "output_type": "stream",
          "name": "stdout",
          "text": [
            "9/9 [==============================] - 3s 302ms/step - loss: 0.1029 - accuracy: 0.9857\n",
            "Test score: 0.10285358130931854\n",
            "Test accuracy: 0.9856502413749695\n"
          ]
        }
      ]
    },
    {
      "cell_type": "code",
      "source": [
        "model.save('spam_classifier_lstm.h5')"
      ],
      "metadata": {
        "id": "rFmMdaFa8kuQ"
      },
      "execution_count": 50,
      "outputs": []
    },
    {
      "cell_type": "code",
      "source": [
        "from keras.models import load_model"
      ],
      "metadata": {
        "id": "Jgxz9Axh8Ra7"
      },
      "execution_count": 51,
      "outputs": []
    },
    {
      "cell_type": "code",
      "source": [
        "input_text = \"SMS. ac Sptv: The New Jersey Devils and the Detroit Red Wings play Ice Hockey. Correct or Incorrect? End? Reply END SPTV\"\n",
        "input_seq = tokenizer.texts_to_sequences([input_text])\n",
        "\n",
        "# Pad the input sequence to the same length as the training data\n",
        "input_seq = pad_sequences(input_seq, maxlen=500)\n"
      ],
      "metadata": {
        "id": "kJQp6m8AMqkM"
      },
      "execution_count": 61,
      "outputs": []
    },
    {
      "cell_type": "code",
      "source": [
        "prediction = model.predict(input_seq)[0][0]"
      ],
      "metadata": {
        "colab": {
          "base_uri": "https://localhost:8080/"
        },
        "id": "5IHj-BJyMvCw",
        "outputId": "4d351e7f-5e42-472e-bbf3-18ce9b24874e"
      },
      "execution_count": 62,
      "outputs": [
        {
          "output_type": "stream",
          "name": "stdout",
          "text": [
            "1/1 [==============================] - 0s 54ms/step\n"
          ]
        }
      ]
    },
    {
      "cell_type": "code",
      "source": [
        "if prediction < 0.5:\n",
        "    print('The input text is ham.')\n",
        "else:\n",
        "    print('The input text is spam.')"
      ],
      "metadata": {
        "colab": {
          "base_uri": "https://localhost:8080/"
        },
        "id": "DaYvoU0qNDIN",
        "outputId": "e8ae1176-e19d-485b-90ff-68b5dfae4bd6"
      },
      "execution_count": 63,
      "outputs": [
        {
          "output_type": "stream",
          "name": "stdout",
          "text": [
            "The input text is spam.\n"
          ]
        }
      ]
    },
    {
      "cell_type": "code",
      "source": [],
      "metadata": {
        "id": "yNrvCRBMNM6m"
      },
      "execution_count": 47,
      "outputs": []
    }
  ],
  "metadata": {
    "colab": {
      "provenance": []
    },
    "kernelspec": {
      "display_name": "Python 3",
      "name": "python3"
    },
    "language_info": {
      "name": "python"
    }
  },
  "nbformat": 4,
  "nbformat_minor": 0
}